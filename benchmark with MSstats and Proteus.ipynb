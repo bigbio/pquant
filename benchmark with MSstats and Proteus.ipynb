{
 "cells": [
  {
   "cell_type": "markdown",
   "metadata": {},
   "source": [
    "### Benchmarking Dataset:\n",
    "\n",
    "#### PXD010981 (“iPRG2015 dataset”)\n",
    "\n",
    "PXD010981 (“iPRG2015 dataset”) contains raw data for the iPRG2015 benchmarking dataset. This dataset is composed of 4 samples with 200ng of tryptic digests of S. cerevisiae (ATCC strain 204508/S288c) were then spiked with different quantities of six individual protein digests of Ovalbumin, Myoglobin, Phosphorylase b, Beta-Galactosidase, Bovine Serum Albumin and Carbonic Anhydrase according to a schema in that publication (present in the benchmarking github repository)."
   ]
  },
  {
   "cell_type": "code",
   "execution_count": 1,
   "metadata": {},
   "outputs": [
    {
     "name": "stderr",
     "output_type": "stream",
     "text": [
      "D:\\need_softwares\\anaconda\\lib\\site-packages\\rpy2\\robjects\\packages.py:366: UserWarning: The symbol 'quartz' is not in this R namespace/package.\n",
      "  warnings.warn(\n"
     ]
    }
   ],
   "source": [
    "%load_ext rpy2.ipython"
   ]
  },
  {
   "cell_type": "code",
   "execution_count": 10,
   "metadata": {},
   "outputs": [],
   "source": [
    "%%R\n",
    "\n",
    "library(dplyr)\n",
    "library(VennDiagram)\n",
    "\n",
    "setwd('D:/dataset/R downstream analysis/pquant/data/PXD010981-benchmark')\n",
    "\n",
    "data_msstats <- read.csv('MSstats_output.csv')\n",
    "data_proteus <- read.csv('Proteus_output.csv')"
   ]
  },
  {
   "cell_type": "code",
   "execution_count": 26,
   "metadata": {},
   "outputs": [],
   "source": [
    "%%R\n",
    "\n",
    "### msstats\n",
    "data_msstats$log2FC <- as.numeric(data_msstats$log2FC)\n",
    "msstats_fc <-subset(data_msstats, log2FC <= -2 | log2FC >= 2)\n",
    "msstats_p <- subset(data_msstats, pvalue <= 0.01)\n",
    "msstats_adj.p <-subset(data_msstats, adj.pvalue <= 0.01)\n",
    "msstats_intersection <-subset(msstats_fc, pvalue <= 0.01 & adj.pvalue <= 0.01)\n",
    "\n",
    "### proteus\n",
    "data_proteus$log2FC <- as.numeric(data_proteus$logFC)\n",
    "proteus_fc <-subset(data_proteus, logFC <= -2 | logFC >= 2)\n",
    "proteus_p <- subset(data_proteus, P.Value <= 0.01)\n",
    "proteus_adj.p <-subset(data_proteus, adj.P.Val <= 0.01)\n",
    "proteus_intersection <-subset(proteus_fc, P.Value <= 0.01 & adj.P.Val <= 0.01)\n",
    "\n",
    "interact_msstats <- msstats_intersection[,1]\n",
    "interact_proteus <- proteus_intersection[,1]"
   ]
  },
  {
   "cell_type": "code",
   "execution_count": 27,
   "metadata": {},
   "outputs": [
    {
     "name": "stdout",
     "output_type": "stream",
     "text": [
      " [1] \"sp|P40449|YIQ1_YEAST\" \"sp|P44015|VAC2_YEAST\" \"sp|P44015|VAC2_YEAST\"\n",
      " [4] \"sp|P44015|VAC2_YEAST\" \"sp|P44015|VAC2_YEAST\" \"sp|P44374|SFG2_YEAST\"\n",
      " [7] \"sp|P44374|SFG2_YEAST\" \"sp|P44374|SFG2_YEAST\" \"sp|P44374|SFG2_YEAST\"\n",
      "[10] \"sp|P44374|SFG2_YEAST\" \"sp|P44683|PGA4_YEAST\" \"sp|P44683|PGA4_YEAST\"\n",
      "[13] \"sp|P44683|PGA4_YEAST\" \"sp|P44683|PGA4_YEAST\" \"sp|P44683|PGA4_YEAST\"\n",
      "[16] \"sp|P44983|UTR6_YEAST\" \"sp|P44983|UTR6_YEAST\" \"sp|P44983|UTR6_YEAST\"\n",
      "[19] \"sp|P44983|UTR6_YEAST\" \"sp|P44983|UTR6_YEAST\" \"sp|P55249|ZRT4_YEAST\"\n",
      "[22] \"sp|P55249|ZRT4_YEAST\" \"sp|P55249|ZRT4_YEAST\" \"sp|P55752|ISCB_YEAST\"\n",
      "[25] \"sp|P55752|ISCB_YEAST\"\n"
     ]
    }
   ],
   "source": [
    "%%R\n",
    "\n",
    "print(interact_msstats)"
   ]
  },
  {
   "cell_type": "code",
   "execution_count": 28,
   "metadata": {},
   "outputs": [
    {
     "name": "stdout",
     "output_type": "stream",
     "text": [
      " [1] \"sp|P44015|VAC2_YEAST\" \"sp|P44374|SFG2_YEAST\" \"sp|P44983|UTR6_YEAST\"\n",
      " [4] \"sp|P42943|TCPH_YEAST\" \"sp|P44374|SFG2_YEAST\" \"sp|P44683|PGA4_YEAST\"\n",
      " [7] \"sp|Q12205|MNL2_YEAST\" \"sp|P44015|VAC2_YEAST\" \"sp|P55249|ZRT4_YEAST\"\n",
      "[10] \"sp|P42943|TCPH_YEAST\" \"sp|P44683|PGA4_YEAST\" \"sp|P55249|ZRT4_YEAST\"\n",
      "[13] \"sp|P55752|ISCB_YEAST\" \"sp|Q12205|MNL2_YEAST\"\n"
     ]
    }
   ],
   "source": [
    "%%R\n",
    "\n",
    "print(interact_proteus)"
   ]
  },
  {
   "cell_type": "code",
   "execution_count": 24,
   "metadata": {},
   "outputs": [
    {
     "name": "stdout",
     "output_type": "stream",
     "text": [
      "INFO [2021-11-26 16:35:41] $x\n",
      "INFO [2021-11-26 16:35:41] list(interact_msstats, interact_proteus)\n",
      "INFO [2021-11-26 16:35:41] \n",
      "INFO [2021-11-26 16:35:41] $category.names\n",
      "INFO [2021-11-26 16:35:41] c(\"MSstats\", \"Proteus\")\n",
      "INFO [2021-11-26 16:35:41] \n",
      "INFO [2021-11-26 16:35:41] $force.unique\n",
      "INFO [2021-11-26 16:35:41] [1] FALSE\n",
      "INFO [2021-11-26 16:35:41] \n",
      "INFO [2021-11-26 16:35:41] $imagetype\n",
      "INFO [2021-11-26 16:35:41] [1] \"svg\"\n",
      "INFO [2021-11-26 16:35:41] \n",
      "INFO [2021-11-26 16:35:41] $filename\n",
      "INFO [2021-11-26 16:35:41] NULL\n",
      "INFO [2021-11-26 16:35:41] \n",
      "INFO [2021-11-26 16:35:41] $margin\n",
      "INFO [2021-11-26 16:35:41] [1] 0.09\n",
      "INFO [2021-11-26 16:35:41] \n",
      "INFO [2021-11-26 16:35:41] $fill\n",
      "INFO [2021-11-26 16:35:41] c(\"red\", \"green\")\n",
      "INFO [2021-11-26 16:35:41] \n",
      "INFO [2021-11-26 16:35:41] $alpha\n",
      "INFO [2021-11-26 16:35:41] c(0.5, 0.5)\n",
      "INFO [2021-11-26 16:35:41] \n",
      "INFO [2021-11-26 16:35:41] $cex\n",
      "INFO [2021-11-26 16:35:41] [1] 1.8\n",
      "INFO [2021-11-26 16:35:41] \n",
      "INFO [2021-11-26 16:35:41] $cat.cex\n",
      "INFO [2021-11-26 16:35:41] [1] 1.3\n",
      "INFO [2021-11-26 16:35:41] \n",
      "INFO [2021-11-26 16:35:41] $disable.logging\n",
      "INFO [2021-11-26 16:35:41] [1] TRUE\n",
      "INFO [2021-11-26 16:35:41] \n"
     ]
    },
    {
     "data": {
      "image/png": "[encoded data removed]"
     },
     "metadata": {},
     "output_type": "display_data"
    }
   ],
   "source": [
    "%%R\n",
    "\n",
    "# msstats-proteus venn\n",
    "venn.plot <- VennDiagram::venn.diagram(\n",
    "  x = list(interact_msstats, interact_proteus),\n",
    "  category.names = c(\"MSstats\", \"Proteus\"),\n",
    "  force.unique = FALSE,\n",
    "  imagetype = \"svg\",\n",
    "  filename = NULL,\n",
    "  margin = 0.09,\n",
    "  fill=c(\"red\",\"green\"), alpha=c(0.5,0.5), cex=1.8, cat.cex = 1.3,\n",
    "  disable.logging = TRUE\n",
    ")\n",
    "\n",
    "grid.draw(venn.plot)"
   ]
  },
  {
   "cell_type": "code",
   "execution_count": null,
   "metadata": {},
   "outputs": [],
   "source": []
  }
 ],
 "metadata": {
  "kernelspec": {
   "display_name": "Python 3",
   "language": "python",
   "name": "python3"
  },
  "language_info": {
   "codemirror_mode": {
    "name": "ipython",
    "version": 3
   },
   "file_extension": ".py",
   "mimetype": "text/x-python",
   "name": "python",
   "nbconvert_exporter": "python",
   "pygments_lexer": "ipython3",
   "version": "3.8.3"
  }
 },
 "nbformat": 4,
 "nbformat_minor": 4
}
